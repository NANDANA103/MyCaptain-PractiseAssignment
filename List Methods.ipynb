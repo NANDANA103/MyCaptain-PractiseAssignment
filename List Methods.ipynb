{
 "cells": [
  {
   "cell_type": "code",
   "execution_count": 2,
   "metadata": {},
   "outputs": [
    {
     "name": "stdout",
     "output_type": "stream",
     "text": [
      "['apple', 'mango', 'strawberry', ['cabbage', 'potato', 'spinach']]\n"
     ]
    }
   ],
   "source": [
    "#LIST append() METHOD\n",
    "a = [\"apple\", \"mango\", \"strawberry\"]\n",
    "b = [\"cabbage\", \"potato\", \"spinach\"]\n",
    "a.append(b)\n",
    "print(a)"
   ]
  },
  {
   "cell_type": "code",
   "execution_count": 3,
   "metadata": {},
   "outputs": [
    {
     "name": "stdout",
     "output_type": "stream",
     "text": [
      "None\n"
     ]
    }
   ],
   "source": [
    "#LIST clear() METHOD\n",
    "fruits = [\"apple\", \"mango\", \"strawberry\"]\n",
    "a = fruits.clear()\n",
    "print(a)"
   ]
  },
  {
   "cell_type": "code",
   "execution_count": 5,
   "metadata": {},
   "outputs": [
    {
     "name": "stdout",
     "output_type": "stream",
     "text": [
      "['apple', 'mango', 'strawberry']\n",
      "['apple', 'mango', 'strawberry']\n"
     ]
    }
   ],
   "source": [
    "#LIST copy() METHOD\n",
    "fruits = [\"apple\", \"mango\", \"strawberry\"]\n",
    "a = fruits.copy()\n",
    "print(fruits)\n",
    "print(a)"
   ]
  },
  {
   "cell_type": "code",
   "execution_count": 6,
   "metadata": {},
   "outputs": [
    {
     "name": "stdout",
     "output_type": "stream",
     "text": [
      "3\n",
      "2\n"
     ]
    }
   ],
   "source": [
    "#LIST count() METHOD\n",
    "numbers = [1, 4, 2, 9, 7, 8, 9, 3, 1, 7, 9]\n",
    "print(numbers.count(9))\n",
    "print(numbers.count(7))"
   ]
  },
  {
   "cell_type": "code",
   "execution_count": 7,
   "metadata": {},
   "outputs": [
    {
     "name": "stdout",
     "output_type": "stream",
     "text": [
      "['apple', 'mango', 'strawberry', 'cabbage', 'potato', 'spinach']\n"
     ]
    }
   ],
   "source": [
    "#LIST extend() METHOD\n",
    "a = [\"apple\", \"mango\", \"strawberry\"]\n",
    "b = [\"cabbage\", \"potato\", \"spinach\"]\n",
    "a.extend(b)\n",
    "print(a)"
   ]
  },
  {
   "cell_type": "code",
   "execution_count": 8,
   "metadata": {},
   "outputs": [
    {
     "name": "stdout",
     "output_type": "stream",
     "text": [
      "3\n"
     ]
    }
   ],
   "source": [
    "#LIST index() METHOD\n",
    "numbers = [1, 4, 2, 9, 7, 8, 9, 3, 1, 7, 9]\n",
    "print(numbers.index(9))"
   ]
  },
  {
   "cell_type": "code",
   "execution_count": 10,
   "metadata": {},
   "outputs": [
    {
     "name": "stdout",
     "output_type": "stream",
     "text": [
      "['apple', 'orange', 'mango', 'strawberry']\n"
     ]
    }
   ],
   "source": [
    "#LIST insert() METHOD\n",
    "fruits = [\"apple\", \"mango\", \"strawberry\"]\n",
    "a = fruits.insert(1, \"orange\")\n",
    "print(fruits)"
   ]
  },
  {
   "cell_type": "code",
   "execution_count": 11,
   "metadata": {},
   "outputs": [
    {
     "name": "stdout",
     "output_type": "stream",
     "text": [
      "['apple', 'orange', 'mango', 'strawberry']\n",
      "orange\n",
      "strawberry\n"
     ]
    }
   ],
   "source": [
    "#LIST pop() METHOD\n",
    "fruits = [\"apple\", \"mango\", \"strawberry\"]\n",
    "a = fruits.insert(1, \"orange\")\n",
    "print(fruits)\n",
    "print(fruits.pop(1))\n",
    "print(fruits.pop())"
   ]
  },
  {
   "cell_type": "code",
   "execution_count": 13,
   "metadata": {},
   "outputs": [
    {
     "name": "stdout",
     "output_type": "stream",
     "text": [
      "[1, 4, 2, 9, 7, 8, 9, 3, 1, 7]\n",
      "None\n",
      "[1, 4, 2, 9, 8, 9, 3, 1, 7]\n"
     ]
    }
   ],
   "source": [
    "#LIST remove() METHOD\n",
    "numbers = [1, 4, 2, 9, 7, 8, 9, 3, 1, 7]\n",
    "print(numbers)\n",
    "print(numbers.remove(7))\n",
    "print(numbers)"
   ]
  },
  {
   "cell_type": "code",
   "execution_count": 20,
   "metadata": {},
   "outputs": [
    {
     "name": "stdout",
     "output_type": "stream",
     "text": [
      "['cherry', 'banana', 'apple']\n"
     ]
    }
   ],
   "source": [
    "#LIST reverse() METHOD\n",
    "fruits = ['apple', 'banana', 'cherry']\n",
    "fruits.reverse()\n",
    "print(fruits)"
   ]
  },
  {
   "cell_type": "code",
   "execution_count": 21,
   "metadata": {},
   "outputs": [
    {
     "name": "stdout",
     "output_type": "stream",
     "text": [
      "['BMW', 'Ford', 'Volvo']\n"
     ]
    }
   ],
   "source": [
    "#LIST sort() METHOD\n",
    "cars = ['Ford', 'BMW', 'Volvo']\n",
    "cars.sort()\n",
    "print(cars)"
   ]
  },
  {
   "cell_type": "code",
   "execution_count": null,
   "metadata": {},
   "outputs": [],
   "source": []
  }
 ],
 "metadata": {
  "kernelspec": {
   "display_name": "Python 3",
   "language": "python",
   "name": "python3"
  },
  "language_info": {
   "codemirror_mode": {
    "name": "ipython",
    "version": 3
   },
   "file_extension": ".py",
   "mimetype": "text/x-python",
   "name": "python",
   "nbconvert_exporter": "python",
   "pygments_lexer": "ipython3",
   "version": "3.8.5"
  }
 },
 "nbformat": 4,
 "nbformat_minor": 4
}
