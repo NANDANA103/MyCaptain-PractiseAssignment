{
 "cells": [
  {
   "cell_type": "code",
   "execution_count": 1,
   "metadata": {},
   "outputs": [
    {
     "name": "stdout",
     "output_type": "stream",
     "text": [
      "{'banana', 'mango', 'apple', 'cherry'}\n"
     ]
    }
   ],
   "source": [
    "#SET add() METHOD\n",
    "fruits = {\"apple\", \"banana\", \"cherry\"}\n",
    "fruits.add(\"mango\")\n",
    "print(fruits)"
   ]
  },
  {
   "cell_type": "code",
   "execution_count": 2,
   "metadata": {},
   "outputs": [
    {
     "name": "stdout",
     "output_type": "stream",
     "text": [
      "set()\n"
     ]
    }
   ],
   "source": [
    "#SET clear() METHOD\n",
    "fruits = {\"apple\", \"banana\", \"cherry\"}\n",
    "fruits.clear()\n",
    "print(fruits)"
   ]
  },
  {
   "cell_type": "code",
   "execution_count": 4,
   "metadata": {},
   "outputs": [
    {
     "name": "stdout",
     "output_type": "stream",
     "text": [
      "{'banana', 'apple', 'cherry'}\n",
      "{'banana', 'apple', 'cherry'}\n"
     ]
    }
   ],
   "source": [
    "#SET copy() METHOD\n",
    "fruits = {\"apple\", \"banana\", \"cherry\"}\n",
    "print(fruits)\n",
    "a = fruits.copy()\n",
    "print(a)"
   ]
  },
  {
   "cell_type": "code",
   "execution_count": 8,
   "metadata": {},
   "outputs": [
    {
     "name": "stdout",
     "output_type": "stream",
     "text": [
      "{'banana', 'cherry'}\n",
      "{'microsoft', 'google'}\n"
     ]
    }
   ],
   "source": [
    "#SET difference() METHOD\n",
    "a = {\"apple\", \"banana\", \"cherry\"}\n",
    "b = {\"google\", \"microsoft\", \"apple\"}\n",
    "c = a.difference(b)\n",
    "d = b.difference(a)\n",
    "print(c)\n",
    "print(d)"
   ]
  },
  {
   "cell_type": "code",
   "execution_count": 10,
   "metadata": {},
   "outputs": [
    {
     "name": "stdout",
     "output_type": "stream",
     "text": [
      "{'banana', 'cherry'}\n",
      "{'microsoft', 'google', 'apple'}\n"
     ]
    }
   ],
   "source": [
    "#SET difference_update() METHOD\n",
    "x = {\"apple\", \"banana\", \"cherry\"}\n",
    "y = {\"google\", \"microsoft\", \"apple\"}\n",
    "x.difference_update(y)\n",
    "y.difference_update(x)\n",
    "print(x)\n",
    "print(y)"
   ]
  },
  {
   "cell_type": "code",
   "execution_count": 11,
   "metadata": {},
   "outputs": [
    {
     "name": "stdout",
     "output_type": "stream",
     "text": [
      "{'mango', 'apple', 'cherry'}\n"
     ]
    }
   ],
   "source": [
    "#SET discard() METHOD\n",
    "fruits = {\"apple\", \"banana\",\"mango\", \"cherry\"}\n",
    "fruits.discard(\"banana\")\n",
    "print(fruits)"
   ]
  },
  {
   "cell_type": "code",
   "execution_count": 13,
   "metadata": {},
   "outputs": [
    {
     "name": "stdout",
     "output_type": "stream",
     "text": [
      "{'c'}\n"
     ]
    }
   ],
   "source": [
    "#SET intersection() METHOD\n",
    "x = {\"a\", \"b\", \"c\"}\n",
    "y = {\"c\", \"d\", \"e\"}\n",
    "z = {\"f\", \"g\", \"c\"}\n",
    "result = x.intersection(y, z)\n",
    "print(result)"
   ]
  },
  {
   "cell_type": "code",
   "execution_count": 15,
   "metadata": {},
   "outputs": [
    {
     "name": "stdout",
     "output_type": "stream",
     "text": [
      "{'apple'}\n",
      "{'c'}\n"
     ]
    }
   ],
   "source": [
    "#SET intersection_update() METHOD\n",
    "x = {\"apple\", \"banana\", \"cherry\"}\n",
    "y = {\"google\", \"microsoft\", \"apple\"}\n",
    "x.intersection_update(y)\n",
    "print(x)\n",
    "\n",
    "p = {\"a\", \"b\", \"c\"}\n",
    "q = {\"c\", \"d\", \"e\"}\n",
    "r = {\"f\", \"g\", \"c\"}\n",
    "p.intersection_update(q, r)\n",
    "print(p)"
   ]
  },
  {
   "cell_type": "code",
   "execution_count": 16,
   "metadata": {},
   "outputs": [
    {
     "name": "stdout",
     "output_type": "stream",
     "text": [
      "True\n"
     ]
    }
   ],
   "source": [
    "#SET disjoint() METHOD\n",
    "x = {\"apple\", \"banana\", \"cherry\"}\n",
    "y = {\"google\", \"microsoft\", \"facebook\"}\n",
    "z = x.isdisjoint(y)\n",
    "print(z)"
   ]
  },
  {
   "cell_type": "code",
   "execution_count": 17,
   "metadata": {},
   "outputs": [
    {
     "name": "stdout",
     "output_type": "stream",
     "text": [
      "True\n"
     ]
    }
   ],
   "source": [
    "#SET issubset() METHOD\n",
    "x = {\"a\", \"b\", \"c\"}\n",
    "y = {\"f\", \"e\", \"d\", \"c\", \"b\", \"a\"}\n",
    "z = x.issubset(y)\n",
    "print(z)"
   ]
  },
  {
   "cell_type": "code",
   "execution_count": 18,
   "metadata": {},
   "outputs": [
    {
     "name": "stdout",
     "output_type": "stream",
     "text": [
      "True\n"
     ]
    }
   ],
   "source": [
    "#SET issuperset() METHOD\n",
    "x = {\"a\", \"b\", \"c\"}\n",
    "y = {\"f\", \"e\", \"d\", \"c\", \"b\", \"a\"}\n",
    "z = y.issuperset(x)\n",
    "print(z)"
   ]
  },
  {
   "cell_type": "code",
   "execution_count": 20,
   "metadata": {},
   "outputs": [
    {
     "name": "stdout",
     "output_type": "stream",
     "text": [
      "{'apple', 'cherry'}\n"
     ]
    }
   ],
   "source": [
    "#SET pop() METHOD\n",
    "fruits = {\"apple\", \"banana\", \"cherry\"}\n",
    "fruits.pop()\n",
    "print(fruits)"
   ]
  },
  {
   "cell_type": "code",
   "execution_count": 21,
   "metadata": {},
   "outputs": [
    {
     "name": "stdout",
     "output_type": "stream",
     "text": [
      "{'banana', 'apple'}\n"
     ]
    }
   ],
   "source": [
    "#SET remove() METHOD\n",
    "fruits = {\"apple\", \"banana\", \"cherry\"}\n",
    "fruits.remove(\"cherry\")\n",
    "print(fruits)"
   ]
  },
  {
   "cell_type": "code",
   "execution_count": 22,
   "metadata": {},
   "outputs": [
    {
     "name": "stdout",
     "output_type": "stream",
     "text": [
      "{'microsoft', 'banana', 'google', 'cherry'}\n"
     ]
    }
   ],
   "source": [
    "#SET symmetric_difference() METHOD\n",
    "x = {\"apple\", \"banana\", \"cherry\"}\n",
    "y = {\"google\", \"microsoft\", \"apple\"}\n",
    "z = x.symmetric_difference(y)\n",
    "print(z)"
   ]
  },
  {
   "cell_type": "code",
   "execution_count": 23,
   "metadata": {},
   "outputs": [
    {
     "name": "stdout",
     "output_type": "stream",
     "text": [
      "{'microsoft', 'banana', 'google', 'cherry'}\n"
     ]
    }
   ],
   "source": [
    "#SET symmetric_difference_update() METHOD\n",
    "x = {\"apple\", \"banana\", \"cherry\"}\n",
    "y = {\"google\", \"microsoft\", \"apple\"}\n",
    "x.symmetric_difference_update(y)\n",
    "print(x)"
   ]
  },
  {
   "cell_type": "code",
   "execution_count": 25,
   "metadata": {},
   "outputs": [
    {
     "name": "stdout",
     "output_type": "stream",
     "text": [
      "{'banana', 'microsoft', 'google', 'apple', 'cherry'}\n",
      "{'a', 'c', 'b', 'd', 'f', 'e'}\n"
     ]
    }
   ],
   "source": [
    "#SET union() METHOD\n",
    "x = {\"apple\", \"banana\", \"cherry\"}\n",
    "y = {\"google\", \"microsoft\", \"apple\"}\n",
    "z = x.union(y)\n",
    "print(z)\n",
    "\n",
    "x = {\"a\", \"b\", \"c\"}\n",
    "y = {\"f\", \"d\", \"a\"}\n",
    "z = {\"c\", \"d\", \"e\"}\n",
    "result = x.union(y, z)\n",
    "print(result)"
   ]
  },
  {
   "cell_type": "code",
   "execution_count": 26,
   "metadata": {},
   "outputs": [
    {
     "name": "stdout",
     "output_type": "stream",
     "text": [
      "{'microsoft', 'banana', 'google', 'apple', 'cherry'}\n"
     ]
    }
   ],
   "source": [
    "#SET update() METHOD\n",
    "x = {\"apple\", \"banana\", \"cherry\"}\n",
    "y = [\"google\", \"microsoft\", \"apple\"]\n",
    "x.update(y)\n",
    "print(x)"
   ]
  },
  {
   "cell_type": "code",
   "execution_count": null,
   "metadata": {},
   "outputs": [],
   "source": []
  }
 ],
 "metadata": {
  "kernelspec": {
   "display_name": "Python 3",
   "language": "python",
   "name": "python3"
  },
  "language_info": {
   "codemirror_mode": {
    "name": "ipython",
    "version": 3
   },
   "file_extension": ".py",
   "mimetype": "text/x-python",
   "name": "python",
   "nbconvert_exporter": "python",
   "pygments_lexer": "ipython3",
   "version": "3.8.5"
  }
 },
 "nbformat": 4,
 "nbformat_minor": 4
}
