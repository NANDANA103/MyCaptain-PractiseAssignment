{
 "cells": [
  {
   "cell_type": "code",
   "execution_count": 15,
   "metadata": {},
   "outputs": [
    {
     "name": "stdout",
     "output_type": "stream",
     "text": [
      "Select required operation : \n",
      "1. Add\n",
      "2. Subtract\n",
      "3. Multiply\n",
      "4. Divide\n",
      "\n",
      "Enter ur choice : 1\n",
      "Enter the first number : 10\n",
      "Enter the second number : 2\n",
      "10.0 + 2.0 = 12.0\n"
     ]
    }
   ],
   "source": [
    "#Python program to make a simple Calculator.\n",
    "\n",
    "def add(x,y):\n",
    "    return x + y\n",
    "def subtract(x,y):\n",
    "    return x - y\n",
    "def multiply(x,y):\n",
    "    return x * y\n",
    "def divide(x,y):\n",
    "    return x / y\n",
    "\n",
    "print(\"Select required operation : \\n\"\n",
    "        \"1. Add\\n\"\n",
    "        \"2. Subtract\\n\"\n",
    "        \"3. Multiply\\n\"\n",
    "        \"4. Divide\\n\")\n",
    "\n",
    "#Take the choice from user\n",
    "choice = int((input(\"Enter ur choice : \")))\n",
    "\n",
    "num1 = float(input(\"Enter the first number : \"))\n",
    "num2 = float(input(\"Enter the second number : \"))\n",
    "\n",
    "#Check if entered choice is from the given options\n",
    "if(choice == 1):\n",
    "    print(num1, \"+\", num2, \"=\", add(num1,num2))\n",
    "elif(choice == 2):\n",
    "    print(num1, \"-\", num2, \"=\", subtract(num1,num2))\n",
    "elif(choice == 3):\n",
    "    print(num1, \"*\", num2, \"=\", multiply(num1,num2))\n",
    "elif(choice == 4):\n",
    "    print(num1, \"/\", num2, \"=\", divide(num1,num2))\n",
    "else:\n",
    "    print(\"INVALID INPUT!!\")"
   ]
  },
  {
   "cell_type": "code",
   "execution_count": null,
   "metadata": {},
   "outputs": [],
   "source": []
  }
 ],
 "metadata": {
  "kernelspec": {
   "display_name": "Python 3",
   "language": "python",
   "name": "python3"
  },
  "language_info": {
   "codemirror_mode": {
    "name": "ipython",
    "version": 3
   },
   "file_extension": ".py",
   "mimetype": "text/x-python",
   "name": "python",
   "nbconvert_exporter": "python",
   "pygments_lexer": "ipython3",
   "version": "3.8.5"
  }
 },
 "nbformat": 4,
 "nbformat_minor": 4
}
