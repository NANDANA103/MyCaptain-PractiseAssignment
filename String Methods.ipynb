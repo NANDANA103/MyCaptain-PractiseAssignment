{
 "cells": [
  {
   "cell_type": "code",
   "execution_count": 19,
   "metadata": {},
   "outputs": [
    {
     "name": "stdout",
     "output_type": "stream",
     "text": [
      "Welcome back!\n",
      "Hello world!\n"
     ]
    }
   ],
   "source": [
    "#STRING capitalize() METHOD\n",
    "text = \"welcome back!\"\n",
    "txt = \"hELLO WORLD!\"\n",
    "s = text.capitalize()\n",
    "x = txt.capitalize()\n",
    "print(s)\n",
    "print(x)"
   ]
  },
  {
   "cell_type": "code",
   "execution_count": 6,
   "metadata": {},
   "outputs": [
    {
     "name": "stdout",
     "output_type": "stream",
     "text": [
      "welcome back!\n",
      "hello world!\n"
     ]
    }
   ],
   "source": [
    "#STRING casefold() METHOD\n",
    "text = \"Welcome Back!\"\n",
    "txt = \"HELLO WORLD!\"\n",
    "s = text.casefold()\n",
    "x = txt.casefold()\n",
    "print(s)\n",
    "print(x)"
   ]
  },
  {
   "cell_type": "code",
   "execution_count": 18,
   "metadata": {},
   "outputs": [
    {
     "name": "stdout",
     "output_type": "stream",
     "text": [
      "ooooooWelcomeooooooo\n",
      "$$Hello$$$\n"
     ]
    }
   ],
   "source": [
    "#STRING center() METHOD\n",
    "text = \"Welcome\"\n",
    "txt = \"Hello\"\n",
    "s = text.center(20,\"o\")\n",
    "x = txt.center(10,\"$\")\n",
    "print(s)\n",
    "print(x)"
   ]
  },
  {
   "cell_type": "code",
   "execution_count": 21,
   "metadata": {},
   "outputs": [
    {
     "name": "stdout",
     "output_type": "stream",
     "text": [
      "2\n"
     ]
    }
   ],
   "source": [
    "#STRING count() METHOD\n",
    "text = \"I love mango, mango is my favourite fruit.\"\n",
    "s = text.count(\"mango\")\n",
    "print(s)"
   ]
  },
  {
   "cell_type": "code",
   "execution_count": 24,
   "metadata": {},
   "outputs": [
    {
     "name": "stdout",
     "output_type": "stream",
     "text": [
      "b'I am 20 years old'\n",
      "b'I love \\\\xd1mangoes\\\\u1e47'\n",
      "b'I love mangoes'\n",
      "b'I love \\\\N{LATIN CAPITAL LETTER N WITH TILDE}mangoes\\\\N{LATIN SMALL LETTER N WITH DOT BELOW}'\n",
      "b'I love ?mangoes?'\n",
      "b'I love &#209;mangoes&#7751;'\n"
     ]
    }
   ],
   "source": [
    "#STRING encode() METHOD\n",
    "text = \"I am 20 years old\"\n",
    "txt = \"I love Ñmangoesṇ\"\n",
    "print(text.encode())\n",
    "print(txt.encode(encoding=\"ascii\",errors=\"backslashreplace\"))\n",
    "print(txt.encode(encoding=\"ascii\",errors=\"ignore\"))\n",
    "print(txt.encode(encoding=\"ascii\",errors=\"namereplace\"))\n",
    "print(txt.encode(encoding=\"ascii\",errors=\"replace\"))\n",
    "print(txt.encode(encoding=\"ascii\",errors=\"xmlcharrefreplace\"))"
   ]
  },
  {
   "cell_type": "code",
   "execution_count": 25,
   "metadata": {},
   "outputs": [
    {
     "name": "stdout",
     "output_type": "stream",
     "text": [
      "True\n",
      "False\n"
     ]
    }
   ],
   "source": [
    "#STRING endswith() METHOD\n",
    "text = \"Welcome to my world.\"\n",
    "txt = \"Hi, this is me!\"\n",
    "print(text.endswith(\"my world.\"))\n",
    "print(text.endswith(\"!\",4,12))"
   ]
  },
  {
   "cell_type": "code",
   "execution_count": 26,
   "metadata": {},
   "outputs": [
    {
     "name": "stdout",
     "output_type": "stream",
     "text": [
      "H\te\tl\tl\to\n",
      "H       e       l       l       o\n",
      "H e l l o\n",
      "H     e     l     l     o\n",
      "H         e         l         l         o\n"
     ]
    }
   ],
   "source": [
    "#STRING expandtabs() METHOD\n",
    "txt = \"H\\te\\tl\\tl\\to\"\n",
    "\n",
    "print(txt)\n",
    "print(txt.expandtabs())\n",
    "print(txt.expandtabs(2))\n",
    "print(txt.expandtabs(6))\n",
    "print(txt.expandtabs(10))"
   ]
  },
  {
   "cell_type": "code",
   "execution_count": 28,
   "metadata": {},
   "outputs": [
    {
     "name": "stdout",
     "output_type": "stream",
     "text": [
      "11\n",
      "-1\n"
     ]
    }
   ],
   "source": [
    "txt = \"Welcome to my world.\"\n",
    "x = txt.find(\"my\")\n",
    "print(x)\n",
    "print(txt.find(\"n\"))"
   ]
  },
  {
   "cell_type": "code",
   "execution_count": 34,
   "metadata": {},
   "outputs": [
    {
     "name": "stdout",
     "output_type": "stream",
     "text": [
      "I have 100.00 rupees!\n",
      "******************\n",
      "My name is John, I'm 36.\n",
      "******************\n",
      "We have 40       chickens.\n",
      "******************\n",
      "We have   40   chickens.\n",
      "******************\n",
      "The temperature is       45 degrees celsius.\n",
      "******************\n",
      "The temperature is between -5 and +10 degrees celsius.\n",
      "******************\n",
      "The temperature is between -5 and 10 degrees celsius.\n",
      "******************\n",
      "The universe is 1,200,000,000 years old.\n",
      "******************\n",
      "The binary version of 5 is 101 and 8 is 1000\n",
      "******************\n",
      "The binary version of 5 is \u0005 and 8 is \b\n",
      "******************\n",
      "We have 20 chickens.\n",
      "We have 5 chickens.\n",
      "******************\n",
      "The octal version of 10 is 12\n",
      "******************\n",
      "The Hexadecimal version of 150 is 96\n",
      "******************\n",
      "You scored 45.000000%\n",
      "You scored 45%\n",
      "******************\n",
      "The price is 150 is 150\n"
     ]
    }
   ],
   "source": [
    "#STRING format() METHOD\n",
    "txt = \"I have {amount:.2f} rupees!\" #Fix point number format\n",
    "print(txt.format(amount = 100))\n",
    "\n",
    "print(\"******************\")\n",
    "\n",
    "txt1 = \"My name is {0}, I'm {1}.\".format(\"John\",36)\n",
    "print(txt1)\n",
    "\n",
    "print(\"******************\")\n",
    "\n",
    "txt = \"We have {:<8} chickens.\" #Left aligns the result (within the available space)\n",
    "print(txt.format(40))\n",
    "\n",
    "print(\"******************\")\n",
    "\n",
    "txt = \"We have {:^6} chickens.\" #Center aligns the result (within the available space)\n",
    "print(txt.format(40))\n",
    "\n",
    "print(\"******************\")\n",
    "\n",
    "txt = \"The temperature is {:=8} degrees celsius.\" \n",
    "print(txt.format(+45))\n",
    "\n",
    "print(\"******************\")\n",
    "\n",
    "txt = \"The temperature is between {:+} and {:+} degrees celsius.\"\n",
    "print(txt.format(-5, 10))\n",
    "\n",
    "print(\"******************\")\n",
    "\n",
    "txt = \"The temperature is between {:-} and {:-} degrees celsius.\"\n",
    "print(txt.format(-5, 10))\n",
    "\n",
    "print(\"******************\")\n",
    "\n",
    "txt = \"The universe is {:,} years old.\"\n",
    "print(txt.format(1200000000))\n",
    "\n",
    "print(\"******************\")\n",
    "\n",
    "txt = \"The binary version of {0} is {0:b} and {1} is {1:b}\"\n",
    "print(txt.format(5,8))\n",
    "\n",
    "print(\"******************\")\n",
    "\n",
    "txt = \"The binary version of {0} is {0:c} and {1} is {1:c}\"\n",
    "print(txt.format(5,8))\n",
    "\n",
    "print(\"******************\")\n",
    "\n",
    "txt = \"We have {:d} chickens.\"\n",
    "print(txt.format(20))\n",
    "txt = \"We have {:d} chickens.\"\n",
    "print(txt.format(0b101))\n",
    "\n",
    "print(\"******************\")\n",
    "\n",
    "txt = \"The octal version of {0} is {0:o}\"\n",
    "print(txt.format(10))\n",
    "\n",
    "print(\"******************\")\n",
    "\n",
    "txt = \"The Hexadecimal version of {0} is {0:x}\"\n",
    "print(txt.format(150))\n",
    "\n",
    "print(\"******************\")\n",
    "\n",
    "txt = \"You scored {:%}\"\n",
    "print(txt.format(0.45))\n",
    "txt = \"You scored {:.0%}\"\n",
    "print(txt.format(0.45))\n",
    "\n",
    "print(\"******************\")\n",
    "\n",
    "txt = \"The price is {0} is {0:n}\"\n",
    "print(txt.format(150))"
   ]
  },
  {
   "cell_type": "code",
   "execution_count": 35,
   "metadata": {},
   "outputs": [
    {
     "name": "stdout",
     "output_type": "stream",
     "text": [
      "8\n"
     ]
    }
   ],
   "source": [
    "#STRING index() METHOD\n",
    "txt = \"Hello, welcome to my world.\"\n",
    "x = txt.index(\"e\", 5, 10)\n",
    "print(x)"
   ]
  },
  {
   "cell_type": "code",
   "execution_count": 36,
   "metadata": {},
   "outputs": [
    {
     "name": "stdout",
     "output_type": "stream",
     "text": [
      "False\n",
      "True\n"
     ]
    }
   ],
   "source": [
    "#STRING isalnum() METHOD\n",
    "text = \"Company&12\"\n",
    "txt = \"Company12\"\n",
    "print(text.isalnum())\n",
    "print(txt.isalnum())"
   ]
  },
  {
   "cell_type": "code",
   "execution_count": 39,
   "metadata": {},
   "outputs": [
    {
     "name": "stdout",
     "output_type": "stream",
     "text": [
      "True\n",
      "False\n"
     ]
    }
   ],
   "source": [
    "#STRING isaplha() METHOD\n",
    "txt = \"CompanyX\"\n",
    "text = \"Company12\"\n",
    "print(txt.isalpha())\n",
    "print(text.isalpha())"
   ]
  },
  {
   "cell_type": "code",
   "execution_count": 40,
   "metadata": {},
   "outputs": [
    {
     "name": "stdout",
     "output_type": "stream",
     "text": [
      "True\n",
      "False\n"
     ]
    }
   ],
   "source": [
    "#STRING isdecimal() METHOD\n",
    "a = \"\\u0030\" #unicode for 0\n",
    "b = \"\\u0047\" #unicode for G\n",
    "print(a.isdecimal())\n",
    "print(b.isdecimal())"
   ]
  },
  {
   "cell_type": "code",
   "execution_count": 41,
   "metadata": {},
   "outputs": [
    {
     "name": "stdout",
     "output_type": "stream",
     "text": [
      "True\n",
      "False\n"
     ]
    }
   ],
   "source": [
    "#STRING isdigit() METHOD\n",
    "txt = \"50800\"\n",
    "text = \"Company12\"\n",
    "print(txt.isdigit())\n",
    "print(text.isdigit())"
   ]
  },
  {
   "cell_type": "code",
   "execution_count": 42,
   "metadata": {},
   "outputs": [
    {
     "name": "stdout",
     "output_type": "stream",
     "text": [
      "True\n",
      "True\n",
      "False\n",
      "False\n"
     ]
    }
   ],
   "source": [
    "#STRING isidentifier() METHOD\n",
    "a = \"MyFolder\"\n",
    "b = \"Demo002\"\n",
    "c = \"2bring\"\n",
    "d = \"my demo\"\n",
    "print(a.isidentifier())\n",
    "print(b.isidentifier())\n",
    "print(c.isidentifier())\n",
    "print(d.isidentifier())"
   ]
  },
  {
   "cell_type": "code",
   "execution_count": 43,
   "metadata": {},
   "outputs": [
    {
     "name": "stdout",
     "output_type": "stream",
     "text": [
      "True\n"
     ]
    }
   ],
   "source": [
    "#STRING islower() METHOD\n",
    "txt = \"hello world!\"\n",
    "x = txt.islower()\n",
    "print(x)"
   ]
  },
  {
   "cell_type": "code",
   "execution_count": 44,
   "metadata": {},
   "outputs": [
    {
     "name": "stdout",
     "output_type": "stream",
     "text": [
      "True\n",
      "True\n",
      "False\n",
      "False\n",
      "False\n"
     ]
    }
   ],
   "source": [
    "#STRING isnumeric() METHOD\n",
    "a = \"\\u0030\" #unicode for 0\n",
    "b = \"\\u00B2\" #unicode for &sup2;\n",
    "c = \"10km2\"\n",
    "d = \"-1\"\n",
    "e = \"1.5\"\n",
    "print(a.isnumeric())\n",
    "print(b.isnumeric())\n",
    "print(c.isnumeric())\n",
    "print(d.isnumeric())\n",
    "print(e.isnumeric())"
   ]
  },
  {
   "cell_type": "code",
   "execution_count": 45,
   "metadata": {},
   "outputs": [
    {
     "name": "stdout",
     "output_type": "stream",
     "text": [
      "False\n",
      "True\n"
     ]
    }
   ],
   "source": [
    "#STRING isspace() METHOD\n",
    "txt = \"   s   \"\n",
    "text = \"      \"\n",
    "print(txt.isspace())\n",
    "print(text.isspace())"
   ]
  },
  {
   "cell_type": "code",
   "execution_count": 46,
   "metadata": {},
   "outputs": [
    {
     "name": "stdout",
     "output_type": "stream",
     "text": [
      "True\n",
      "False\n"
     ]
    }
   ],
   "source": [
    "#STRING istitle() METHOD\n",
    "txt = \"Hello, And Welcome To My World!\"\n",
    "text = \"Hello world!\"\n",
    "print(txt.istitle())\n",
    "print(text.istitle())"
   ]
  },
  {
   "cell_type": "code",
   "execution_count": 47,
   "metadata": {},
   "outputs": [
    {
     "name": "stdout",
     "output_type": "stream",
     "text": [
      "John#Peter#Vicky\n",
      "John&Peter&Vicky\n"
     ]
    }
   ],
   "source": [
    "#STRING join() METHOD\n",
    "myTuple = (\"John\", \"Peter\", \"Vicky\")\n",
    "x = \"#\".join(myTuple)\n",
    "y = \"&\".join(myTuple)\n",
    "print(x)\n",
    "print(y)"
   ]
  },
  {
   "cell_type": "code",
   "execution_count": 50,
   "metadata": {},
   "outputs": [
    {
     "name": "stdout",
     "output_type": "stream",
     "text": [
      "bananaOOOOOOOOOOOOOO\n"
     ]
    }
   ],
   "source": [
    "#STRING ljust() METHOD\n",
    "txt = \"banana\"\n",
    "x = txt.ljust(20, \"O\")\n",
    "print(x)"
   ]
  },
  {
   "cell_type": "code",
   "execution_count": 51,
   "metadata": {},
   "outputs": [
    {
     "name": "stdout",
     "output_type": "stream",
     "text": [
      "of all fruits banana      is my favorite\n"
     ]
    }
   ],
   "source": [
    "#STRING lstrip() METHOD\n",
    "txt = \"     banana     \"\n",
    "x = txt.lstrip()\n",
    "print(\"of all fruits\", x, \"is my favorite\")"
   ]
  },
  {
   "cell_type": "code",
   "execution_count": 52,
   "metadata": {},
   "outputs": [
    {
     "name": "stdout",
     "output_type": "stream",
     "text": [
      "Hello Pam!\n"
     ]
    }
   ],
   "source": [
    "#STRING maketrans() METHOD\n",
    "txt = \"Hello Sam!\"\n",
    "mytable = txt.maketrans(\"S\", \"P\")\n",
    "print(txt.translate(mytable))"
   ]
  },
  {
   "cell_type": "code",
   "execution_count": 53,
   "metadata": {},
   "outputs": [
    {
     "name": "stdout",
     "output_type": "stream",
     "text": [
      "('I could eat ', 'bananas', ' all day')\n"
     ]
    }
   ],
   "source": [
    "#STRING partition() METHOD\n",
    "txt = \"I could eat bananas all day\"\n",
    "x = txt.partition(\"bananas\")\n",
    "print(x)"
   ]
  },
  {
   "cell_type": "code",
   "execution_count": 54,
   "metadata": {},
   "outputs": [
    {
     "name": "stdout",
     "output_type": "stream",
     "text": [
      "I like mangoes\n"
     ]
    }
   ],
   "source": [
    "#STRING replace() METHOD\n",
    "txt = \"I like bananas.\"\n",
    "x = txt.replace(\"bananas\", \"mangoes\")\n",
    "print(x)"
   ]
  },
  {
   "cell_type": "code",
   "execution_count": 56,
   "metadata": {},
   "outputs": [
    {
     "name": "stdout",
     "output_type": "stream",
     "text": [
      "12\n"
     ]
    }
   ],
   "source": [
    "#STRING rfind() METHOD\n",
    "txt = \"Mi casa, su casa.\"\n",
    "x = txt.rfind(\"casa\")\n",
    "print(x)"
   ]
  },
  {
   "cell_type": "code",
   "execution_count": 58,
   "metadata": {},
   "outputs": [
    {
     "name": "stdout",
     "output_type": "stream",
     "text": [
      "               mango is my favorite fruit.\n"
     ]
    }
   ],
   "source": [
    "#STRING rjust() METHOD\n",
    "txt = \"mango\"\n",
    "x = txt.rjust(20)\n",
    "print(x, \"is my favorite fruit.\")"
   ]
  },
  {
   "cell_type": "code",
   "execution_count": 59,
   "metadata": {},
   "outputs": [
    {
     "name": "stdout",
     "output_type": "stream",
     "text": [
      "('I can eat mangoes all day, ', 'mangoes', ' are my favorite fruit')\n"
     ]
    }
   ],
   "source": [
    "#STRING rpartition() METHOD\n",
    "txt = \"I can eat mangoes all day, mangoes are my favorite fruit\"\n",
    "x = txt.rpartition(\"mangoes\")\n",
    "print(x)"
   ]
  },
  {
   "cell_type": "code",
   "execution_count": 60,
   "metadata": {},
   "outputs": [
    {
     "name": "stdout",
     "output_type": "stream",
     "text": [
      "['apple, banana', 'cherry']\n"
     ]
    }
   ],
   "source": [
    "#STRING rsplit() METHOD\n",
    "txt = \"apple, banana, cherry\"\n",
    "# setting the maxsplit parameter to 1, will return a list with 2 elements!\n",
    "x = txt.rsplit(\", \", 1)\n",
    "print(x)"
   ]
  },
  {
   "cell_type": "code",
   "execution_count": 61,
   "metadata": {},
   "outputs": [
    {
     "name": "stdout",
     "output_type": "stream",
     "text": [
      "banana\n"
     ]
    }
   ],
   "source": [
    "#STRING rstrip() METHOD\n",
    "txt = \"banana,,,,,ssqqqww.....\"\n",
    "x = txt.rstrip(\",.qsw\")\n",
    "print(x)"
   ]
  },
  {
   "cell_type": "code",
   "execution_count": 62,
   "metadata": {},
   "outputs": [
    {
     "name": "stdout",
     "output_type": "stream",
     "text": [
      "['welcome', 'to', 'the', 'jungle']\n"
     ]
    }
   ],
   "source": [
    "#STRING split() METHOD\n",
    "txt = \"welcome to the jungle\"\n",
    "x = txt.split()\n",
    "print(x)"
   ]
  },
  {
   "cell_type": "code",
   "execution_count": 63,
   "metadata": {},
   "outputs": [
    {
     "name": "stdout",
     "output_type": "stream",
     "text": [
      "['Thank you for the music', 'Welcome to the jungle']\n"
     ]
    }
   ],
   "source": [
    "#STRING splitlines() METHOD\n",
    "txt = \"Thank you for the music\\nWelcome to the jungle\"\n",
    "x = txt.splitlines()\n",
    "print(x)"
   ]
  },
  {
   "cell_type": "code",
   "execution_count": 64,
   "metadata": {},
   "outputs": [
    {
     "name": "stdout",
     "output_type": "stream",
     "text": [
      "True\n"
     ]
    }
   ],
   "source": [
    "#STRING startswith() METHOD\n",
    "txt = \"Hello, welcome to my world.\"\n",
    "x = txt.startswith(\"Hello\")\n",
    "print(x)"
   ]
  },
  {
   "cell_type": "code",
   "execution_count": 66,
   "metadata": {},
   "outputs": [
    {
     "name": "stdout",
     "output_type": "stream",
     "text": [
      "of all fruits mango is my favorite\n"
     ]
    }
   ],
   "source": [
    "#STRING strip() METHOD\n",
    "txt = \"     mango     \"\n",
    "x = txt.strip()\n",
    "print(\"of all fruits\", x, \"is my favorite\")"
   ]
  },
  {
   "cell_type": "code",
   "execution_count": 67,
   "metadata": {},
   "outputs": [
    {
     "name": "stdout",
     "output_type": "stream",
     "text": [
      "hELLO mY nAME iS peter\n"
     ]
    }
   ],
   "source": [
    "#STRING swapcase() METHOD\n",
    "txt = \"Hello My Name Is PETER\"\n",
    "x = txt.swapcase()\n",
    "print(x)"
   ]
  },
  {
   "cell_type": "code",
   "execution_count": 68,
   "metadata": {},
   "outputs": [
    {
     "name": "stdout",
     "output_type": "stream",
     "text": [
      "Welcome To My World\n"
     ]
    }
   ],
   "source": [
    "#STRING title() METHOD\n",
    "txt = \"Welcome to my world\"\n",
    "x = txt.title()\n",
    "print(x)"
   ]
  },
  {
   "cell_type": "code",
   "execution_count": 69,
   "metadata": {},
   "outputs": [
    {
     "name": "stdout",
     "output_type": "stream",
     "text": [
      "Hello Pam!\n"
     ]
    }
   ],
   "source": [
    "#STRING translate() METHOD\n",
    "\n",
    "#use a dictionary with ascii codes to replace 83 (S) with 80 (P):\n",
    "mydict = {83:  80}\n",
    "txt = \"Hello Sam!\"\n",
    "print(txt.translate(mydict))"
   ]
  },
  {
   "cell_type": "code",
   "execution_count": 70,
   "metadata": {},
   "outputs": [
    {
     "name": "stdout",
     "output_type": "stream",
     "text": [
      "00000hello\n",
      "welcome to the jungle\n",
      "000010.000\n"
     ]
    }
   ],
   "source": [
    "#STRING zfill() METHOD\n",
    "a = \"hello\"\n",
    "b = \"welcome to the jungle\"\n",
    "c = \"10.000\"\n",
    "\n",
    "print(a.zfill(10))\n",
    "print(b.zfill(10))\n",
    "print(c.zfill(10))"
   ]
  },
  {
   "cell_type": "code",
   "execution_count": null,
   "metadata": {},
   "outputs": [],
   "source": []
  }
 ],
 "metadata": {
  "kernelspec": {
   "display_name": "Python 3",
   "language": "python",
   "name": "python3"
  },
  "language_info": {
   "codemirror_mode": {
    "name": "ipython",
    "version": 3
   },
   "file_extension": ".py",
   "mimetype": "text/x-python",
   "name": "python",
   "nbconvert_exporter": "python",
   "pygments_lexer": "ipython3",
   "version": "3.8.5"
  }
 },
 "nbformat": 4,
 "nbformat_minor": 4
}
